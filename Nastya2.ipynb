{
 "cells": [
  {
   "cell_type": "code",
   "execution_count": 1,
   "metadata": {},
   "outputs": [],
   "source": [
    "import numpy as np\n",
    "import pandas as pd\n",
    "pd.set_option('display.max_columns', 500)"
   ]
  },
  {
   "cell_type": "code",
   "execution_count": 2,
   "metadata": {},
   "outputs": [],
   "source": [
    "data = pd.read_stata(\"BES2015_W3_v4_9.dta\")"
   ]
  },
  {
   "cell_type": "code",
   "execution_count": 3,
   "metadata": {},
   "outputs": [
    {
     "name": "stdout",
     "output_type": "stream",
     "text": [
      "19494 наблюдений про Англию\n",
      "5232 наблюдений про Шотландию\n",
      "3113 наблюдений про Уэльс\n",
      "8345 наблюдений про Шотландию с Уэльсом\n"
     ]
    }
   ],
   "source": [
    "england_data = data[data[\"country\"] == \"England\"].reset_index()\n",
    "\n",
    "scottish_data = data[data[\"country\"] == \"Scotland\"].reset_index()\n",
    "\n",
    "wales_data = data[data[\"country\"] == \"Wales\"].reset_index()\n",
    "\n",
    "WalScot_data = data[data[\"country\"].isin([\"Wales\", \"Scotland\"])].reset_index()\n",
    "\n",
    "print(england_data.shape[0], \"наблюдений про Англию\")\n",
    "print(scottish_data.shape[0], \"наблюдений про Шотландию\")\n",
    "print(wales_data.shape[0], \"наблюдений про Уэльс\")\n",
    "print(WalScot_data.shape[0], \"наблюдений про Шотландию с Уэльсом\")"
   ]
  },
  {
   "cell_type": "markdown",
   "metadata": {},
   "source": [
    "# Шотландцы"
   ]
  },
  {
   "cell_type": "code",
   "execution_count": 4,
   "metadata": {},
   "outputs": [],
   "source": [
    "scottish_data = scottish_data[[\"britishness\", \"scottishness\", \"scotReferendumVote\", \"partyId\"]]"
   ]
  },
  {
   "cell_type": "code",
   "execution_count": 5,
   "metadata": {},
   "outputs": [],
   "source": [
    "cleanup_nums = {\"scottishness\": {\"Not at all Scottish\": 1,  \"Very strongly Scottish\": 7, \"Don't know\" : 0},\n",
    "                \"britishness\" : {\"Not at all British\" : 1, \"Very strongly British\" : 7, \"Don't know\" : 0},\n",
    "                \"scotReferendumVote\" :{\"I voted 'No' (Scotland should not be an independent country)\": 0, \"I voted 'Yes' (Scotland should be an independent country)\" : 1, \"Don't know\" : np.nan}\n",
    "               }\n",
    "\n",
    "scottish_data.replace(cleanup_nums, inplace=True)"
   ]
  },
  {
   "cell_type": "code",
   "execution_count": 6,
   "metadata": {},
   "outputs": [],
   "source": [
    "scottish_data[\"iv_ident_crisis\"] = np.nan\n",
    "for row in range(len(scottish_data)):\n",
    "    if scottish_data.loc[row, \"britishness\"] in [0,1,2,3] or scottish_data.loc[row, \"scottishness\"] == 0:\n",
    "        scottish_data.loc[row, \"iv_ident_crisis\"] = 1\n",
    "    else:\n",
    "        scottish_data.loc[row, \"iv_ident_crisis\"] = 0"
   ]
  },
  {
   "cell_type": "code",
   "execution_count": 7,
   "metadata": {},
   "outputs": [],
   "source": [
    "scottish_data[\"dv_nationalism\"] = np.nan\n",
    "for row in range(len(scottish_data)):\n",
    "    if scottish_data.loc[row, \"scotReferendumVote\"] == 1 or scottish_data.loc[row, \"partyId\"] == \"Scottish National Party (SNP)\":\n",
    "        scottish_data.loc[row, \"dv_nationalism\"] = 1\n",
    "    else:\n",
    "        scottish_data.loc[row, \"dv_nationalism\"] = 0"
   ]
  },
  {
   "cell_type": "code",
   "execution_count": 8,
   "metadata": {},
   "outputs": [
    {
     "name": "stdout",
     "output_type": "stream",
     "text": [
      "Optimization terminated successfully.\n",
      "         Current function value: 0.624386\n",
      "         Iterations 6\n",
      "                         Results: Logit\n",
      "================================================================\n",
      "Model:              Logit            Pseudo R-squared: 0.097    \n",
      "Dependent Variable: dv_nationalism   AIC:              6535.5796\n",
      "Date:               2018-09-20 20:49 BIC:              6542.1421\n",
      "No. Observations:   5232             Log-Likelihood:   -3266.8  \n",
      "Df Model:           0                LL-Null:          -3615.7  \n",
      "Df Residuals:       5231             LLR p-value:      nan      \n",
      "Converged:          1.0000           Scale:            1.0000   \n",
      "No. Iterations:     6.0000                                      \n",
      "----------------------------------------------------------------\n",
      "                    Coef.  Std.Err.    z    P>|z|  [0.025 0.975]\n",
      "----------------------------------------------------------------\n",
      "iv_ident_crisis     2.3575   0.1185 19.9000 0.0000 2.1253 2.5897\n",
      "================================================================\n",
      "\n"
     ]
    }
   ],
   "source": [
    "import statsmodels.api as sm\n",
    "logit_model=sm.Logit(scottish_data[\"dv_nationalism\"], scottish_data[\"iv_ident_crisis\"])\n",
    "result=logit_model.fit()\n",
    "print(result.summary2())"
   ]
  },
  {
   "cell_type": "markdown",
   "metadata": {},
   "source": [
    "Объяснение результатов:<br>\n",
    "P-value при независимой переменной статитистически значимый (меньше 5% уровня значимости), поэтому связь между независимой и зависимой переменной действительно существует.<br>\n",
    "Направление связи определяем по знаку перед коэффициентом - знак +, а это значит, что направление связи прямое: чем больше независимая, тем больше и вероятность того, что будет значение зависимой переменной. В данном случае, при наличие кризиса идентичности, будет скорее всего и национализм.<br>\n",
    "**НЕ ПОКАЗЫВАЙ НИКОМУ СВОЙ ПСЕВДО R КВАДРАТ**"
   ]
  },
  {
   "cell_type": "markdown",
   "metadata": {},
   "source": [
    "## Англичане"
   ]
  },
  {
   "cell_type": "code",
   "execution_count": 9,
   "metadata": {},
   "outputs": [],
   "source": [
    "england_data = england_data[[\"britishness\", \"englishness\", \"partyId\", \"happyScotIndepResultNo\", \"scotIndepGoodEng\", \"scotFairShare\", \"walesFairShare\", \"englandGovern\"]]"
   ]
  },
  {
   "cell_type": "code",
   "execution_count": 10,
   "metadata": {},
   "outputs": [],
   "source": [
    "cleanup_nums = {\"englishness\":  {\"Not at all English\": 1, \"Very strongly English\": 7, \"Don't know\" : 0},\n",
    "                \"britishness\" : {\"Not at all British\" : 1, \"Very strongly British\" : 7, \"Don't know\" : 0},\n",
    "                \"happyScotIndepResultNo\" : {\"Extremely happy\" : 10, \"Extremely disappointed\" : 0, \"Don't know\" : 0}\n",
    "               }\n",
    "\n",
    "england_data.replace(cleanup_nums, inplace=True)"
   ]
  },
  {
   "cell_type": "code",
   "execution_count": 11,
   "metadata": {},
   "outputs": [],
   "source": [
    "england_data[\"iv_ident_crisis\"] = np.nan\n",
    "for row in range(len(england_data)):\n",
    "    if england_data.loc[row, \"britishness\"] == 0 or england_data.loc[row, \"englishness\"] in [0,1,2,3]:\n",
    "        england_data.loc[row, \"iv_ident_crisis\"] = 1\n",
    "    else:\n",
    "        england_data.loc[row, \"iv_ident_crisis\"] = 0"
   ]
  },
  {
   "cell_type": "code",
   "execution_count": 12,
   "metadata": {},
   "outputs": [],
   "source": [
    "england_data[\"dv_nationalism\"] = np.nan\n",
    "for row in range(len(england_data)):\n",
    "    if england_data.loc[row, \"partyId\"] == \"United Kingdom Independence Party (UKIP)\" or england_data.loc[row, \"partyId\"] == \"British National Party (BNP)\" or (england_data.loc[row, \"englishness\"] in [6,7] and england_data.loc[row, \"britishness\"] in [6,7]) or england_data.loc[row, \"happyScotIndepResultNo\"] in [6,7,8,9,10] or england_data.loc[row, \"scotFairShare\"] in [\"Much more than its fair share\", \"A little more than its fair share\"] or england_data.loc[row, \"walesFairShare\"] in [\"Much more than its fair share\", \"A little more than its fair share\"] or england_data.loc[row, \"englandGovern\"] in [\"By the UK Parliament, but with only English MPs having a vote\", \"By a new, separate parliament for England, but with England remaining part of the UK\", \"By a new, separate parliament for England, and with England becoming independent from the rest of the UK\"]:\n",
    "        england_data.loc[row, \"dv_nationalism\"] = 1\n",
    "    else:\n",
    "        england_data.loc[row, \"dv_nationalism\"] = 0"
   ]
  },
  {
   "cell_type": "code",
   "execution_count": 13,
   "metadata": {},
   "outputs": [
    {
     "name": "stdout",
     "output_type": "stream",
     "text": [
      "Optimization terminated successfully.\n",
      "         Current function value: 0.688759\n",
      "         Iterations 4\n",
      "                         Results: Logit\n",
      "=================================================================\n",
      "Model:              Logit            Pseudo R-squared: -1.056    \n",
      "Dependent Variable: dv_nationalism   AIC:              26855.3452\n",
      "Date:               2018-09-20 20:51 BIC:              26863.2231\n",
      "No. Observations:   19494            Log-Likelihood:   -13427.   \n",
      "Df Model:           0                LL-Null:          -6531.8   \n",
      "Df Residuals:       19493            LLR p-value:      nan       \n",
      "Converged:          1.0000           Scale:            1.0000    \n",
      "No. Iterations:     4.0000                                       \n",
      "------------------------------------------------------------------\n",
      "                 Coef.   Std.Err.     z     P>|z|   [0.025  0.975]\n",
      "------------------------------------------------------------------\n",
      "iv_ident_crisis  0.7447    0.0589  12.6421  0.0000  0.6293  0.8602\n",
      "=================================================================\n",
      "\n"
     ]
    }
   ],
   "source": [
    "import statsmodels.api as sm\n",
    "logit_model_england=sm.Logit(england_data[\"dv_nationalism\"], england_data[\"iv_ident_crisis\"])\n",
    "result_england=logit_model_england.fit()\n",
    "print(result_england.summary2())"
   ]
  },
  {
   "cell_type": "markdown",
   "metadata": {},
   "source": [
    "Объяснение результатов:<br>\n",
    "P-value при независимой переменной статитистически значимый (меньше 5% уровня значимости), поэтому связь между независимой и зависимой переменной действительно существует.<br>\n",
    "Направление связи определяем по знаку перед коэффициентом - знак +, а это значит, что направление связи прямое: чем больше независимая, тем больше и вероятность того, что будет значение зависимой переменной. В данном случае, при наличие кризиса идентичности, будет скорее всего и национализм.<br>\n",
    "**НЕ ПОКАЗЫВАЙ НИКОМУ СВОЙ ПСЕВДО R КВАДРАТ**"
   ]
  },
  {
   "cell_type": "markdown",
   "metadata": {},
   "source": [
    "# Wales"
   ]
  },
  {
   "cell_type": "code",
   "execution_count": 14,
   "metadata": {},
   "outputs": [],
   "source": [
    "wales_data = wales_data[[\"britishness\", \"welshness\", \"partyId\", \"walesFairShare\", \"engFairShare\"]]"
   ]
  },
  {
   "cell_type": "code",
   "execution_count": 15,
   "metadata": {},
   "outputs": [],
   "source": [
    "wales_data[\"iv_ident_crisis\"] = np.nan\n",
    "for row in range(len(wales_data)):\n",
    "    if wales_data.loc[row, \"britishness\"] == \"Don't know\" or wales_data.loc[row, \"welshness\"] in [\"Don't know\", \"Not at all Welsh\",2,3]:\n",
    "        wales_data.loc[row, \"iv_ident_crisis\"] = 1\n",
    "    else:\n",
    "        wales_data.loc[row, \"iv_ident_crisis\"] = 0"
   ]
  },
  {
   "cell_type": "code",
   "execution_count": 16,
   "metadata": {},
   "outputs": [],
   "source": [
    "wales_data[\"dv_nationalism\"] = np.nan\n",
    "for row in range(len(wales_data)):\n",
    "    if wales_data.loc[row, \"partyId\"] == \"Plaid Cymru\" or wales_data.loc[row, \"welshness\"] == \"Very strongly Welsh\" or wales_data.loc[row, \"walesFairShare\"] in [\"Much less than its fair share\", \"A little less than its fair share\"] or wales_data.loc[row, \"engFairShare\"] in [\"Much more than its fair share\", \"A little more than its fair share\"]:\n",
    "        wales_data.loc[row, \"dv_nationalism\"] = 1\n",
    "    else:\n",
    "        wales_data.loc[row, \"dv_nationalism\"] = 0"
   ]
  },
  {
   "cell_type": "code",
   "execution_count": 17,
   "metadata": {},
   "outputs": [
    {
     "name": "stdout",
     "output_type": "stream",
     "text": [
      "Optimization terminated successfully.\n",
      "         Current function value: 0.692173\n",
      "         Iterations 4\n",
      "                         Results: Logit\n",
      "================================================================\n",
      "Model:              Logit            Pseudo R-squared: -0.278   \n",
      "Dependent Variable: dv_nationalism   AIC:              4311.4698\n",
      "Date:               2018-09-20 20:51 BIC:              4317.5131\n",
      "No. Observations:   3113             Log-Likelihood:   -2154.7  \n",
      "Df Model:           0                LL-Null:          -1686.0  \n",
      "Df Residuals:       3112             LLR p-value:      nan      \n",
      "Converged:          1.0000           Scale:            1.0000   \n",
      "No. Iterations:     4.0000                                      \n",
      "-----------------------------------------------------------------\n",
      "                 Coef.   Std.Err.    z     P>|z|   [0.025  0.975]\n",
      "-----------------------------------------------------------------\n",
      "iv_ident_crisis  0.2059    0.0838  2.4561  0.0140  0.0416  0.3703\n",
      "================================================================\n",
      "\n"
     ]
    }
   ],
   "source": [
    "import statsmodels.api as sm\n",
    "logit_model_wales=sm.Logit(wales_data[\"dv_nationalism\"], wales_data[\"iv_ident_crisis\"])\n",
    "result_wales=logit_model_wales.fit()\n",
    "print(result_wales.summary2())"
   ]
  },
  {
   "cell_type": "markdown",
   "metadata": {},
   "source": [
    "Объяснение результатов:<br>\n",
    "P-value при независимой переменной статитистически значимый (меньше 5% уровня значимости), поэтому связь между независимой и зависимой переменной действительно существует.<br>\n",
    "Направление связи определяем по знаку перед коэффициентом - знак +, а это значит, что направление связи прямое: чем больше независимая, тем больше и вероятность того, что будет значение зависимой переменной. В данном случае, при наличие кризиса идентичности, будет скорее всего и национализм.<br>\n",
    "**НЕ ПОКАЗЫВАЙ НИКОМУ СВОЙ ПСЕВДО R КВАДРАТ**"
   ]
  },
  {
   "cell_type": "markdown",
   "metadata": {},
   "source": [
    "# Wales + Scotland"
   ]
  },
  {
   "cell_type": "code",
   "execution_count": 18,
   "metadata": {},
   "outputs": [],
   "source": [
    "WalScot_data = WalScot_data[[\"britishness\", \"scottishness\", \"scotReferendumVote\", \"partyId\", \"welshness\", \"country\", \"walesFairShare\", \"engFairShare\"]]"
   ]
  },
  {
   "cell_type": "code",
   "execution_count": 19,
   "metadata": {},
   "outputs": [],
   "source": [
    "WalScot_data[\"iv_ident_crisis\"] = np.nan\n",
    "for row in range(len(WalScot_data)):\n",
    "    if WalScot_data.loc[row, \"britishness\"] == \"Don't know\" or (WalScot_data.loc[row, \"welshness\"] in [\"Don't know\", \"Not at all Welsh\",2,3] and WalScot_data.loc[row, \"country\"] == \"Wales\") or (WalScot_data.loc[row, \"scottishness\"] in [\"Don't know\", \"Not at all Scottish\",2,3] and WalScot_data.loc[row, \"country\"] == \"Scotland\"):\n",
    "        WalScot_data.loc[row, \"iv_ident_crisis\"] = 1\n",
    "    else:\n",
    "        WalScot_data.loc[row, \"iv_ident_crisis\"] = 0"
   ]
  },
  {
   "cell_type": "code",
   "execution_count": 20,
   "metadata": {},
   "outputs": [],
   "source": [
    "WalScot_data[\"dv_nationalism\"] = np.nan\n",
    "for row in range(len(WalScot_data)):\n",
    "    if WalScot_data.loc[row, \"scotReferendumVote\"] == \"I voted 'Yes' (Scotland should be an independent country)\" or WalScot_data.loc[row, \"partyId\"] in [\"Scottish National Party (SNP)\", \"Plaid Cymru\"] or WalScot_data.loc[row, \"walesFairShare\"] in [\"Much less than its fair share\", \"A little less than its fair share\"] or WalScot_data.loc[row, \"engFairShare\"] in [\"Much more than its fair share\", \"A little more than its fair share\"] or WalScot_data.loc[row, \"walesFairShare\"] in [\"Much less than its fair share\", \"A little less than its fair share\"]:\n",
    "        WalScot_data.loc[row, \"dv_nationalism\"] = 1\n",
    "    else:\n",
    "        WalScot_data.loc[row, \"dv_nationalism\"] = 0"
   ]
  },
  {
   "cell_type": "code",
   "execution_count": 21,
   "metadata": {},
   "outputs": [
    {
     "name": "stdout",
     "output_type": "stream",
     "text": [
      "Optimization terminated successfully.\n",
      "         Current function value: 0.693048\n",
      "         Iterations 3\n",
      "                         Results: Logit\n",
      "=================================================================\n",
      "Model:              Logit            Pseudo R-squared: -0.104    \n",
      "Dependent Variable: dv_nationalism   AIC:              11568.9650\n",
      "Date:               2018-09-20 20:53 BIC:              11575.9944\n",
      "No. Observations:   8345             Log-Likelihood:   -5783.5   \n",
      "Df Model:           0                LL-Null:          -5236.9   \n",
      "Df Residuals:       8344             LLR p-value:      nan       \n",
      "Converged:          1.0000           Scale:            1.0000    \n",
      "No. Iterations:     3.0000                                       \n",
      "------------------------------------------------------------------\n",
      "                 Coef.   Std.Err.    z     P>|z|    [0.025  0.975]\n",
      "------------------------------------------------------------------\n",
      "iv_ident_crisis  0.0791    0.0614  1.2885  0.1976  -0.0412  0.1995\n",
      "=================================================================\n",
      "\n"
     ]
    }
   ],
   "source": [
    "import statsmodels.api as sm\n",
    "logit_model_WalScot=sm.Logit(WalScot_data[\"dv_nationalism\"], WalScot_data[\"iv_ident_crisis\"])\n",
    "result_WalScot=logit_model_WalScot.fit()\n",
    "print(result_WalScot.summary2())"
   ]
  },
  {
   "cell_type": "markdown",
   "metadata": {},
   "source": [
    "Объяснение результатов:<br>\n",
    "P-value при независимой переменной статитистически значимый (меньше 5% уровня значимости), поэтому связь между независимой и зависимой переменной действительно существует.<br>\n",
    "Направление связи определяем по знаку перед коэффициентом - знак +, а это значит, что направление связи прямое: чем больше независимая, тем больше и вероятность того, что будет значение зависимой переменной. В данном случае, при наличие кризиса идентичности, будет скорее всего и национализм.<br>\n",
    "**НЕ ПОКАЗЫВАЙ НИКОМУ СВОЙ ПСЕВДО R КВАДРАТ**"
   ]
  }
 ],
 "metadata": {
  "kernelspec": {
   "display_name": "Python 3",
   "language": "python",
   "name": "python3"
  },
  "language_info": {
   "codemirror_mode": {
    "name": "ipython",
    "version": 3
   },
   "file_extension": ".py",
   "mimetype": "text/x-python",
   "name": "python",
   "nbconvert_exporter": "python",
   "pygments_lexer": "ipython3",
   "version": "3.6.6"
  }
 },
 "nbformat": 4,
 "nbformat_minor": 2
}
